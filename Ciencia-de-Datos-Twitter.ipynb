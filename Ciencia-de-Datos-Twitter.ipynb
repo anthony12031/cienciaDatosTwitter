{
 "cells": [
  {
   "cell_type": "code",
   "execution_count": 47,
   "metadata": {},
   "outputs": [],
   "source": [
    "from twython import Twython\n",
    "import pandas as pd"
   ]
  },
  {
   "cell_type": "markdown",
   "metadata": {},
   "source": [
    "Credenciales de la aplicación"
   ]
  },
  {
   "cell_type": "code",
   "execution_count": 48,
   "metadata": {},
   "outputs": [],
   "source": [
    "APP_KEY = 'DsdslsPnlQpJcbINiW28L4TBI'\n",
    "APP_SECRET = 'XklVUJQquvtJ1HAxMSwlyxrPb4v171TGwMfHMwXMTRBSTeF4mo'"
   ]
  },
  {
   "cell_type": "markdown",
   "metadata": {},
   "source": [
    "Autenticación con la api de twitter"
   ]
  },
  {
   "cell_type": "code",
   "execution_count": 49,
   "metadata": {},
   "outputs": [],
   "source": [
    "twitter = Twython(APP_KEY, APP_SECRET, oauth_version=2)\n",
    "ACCESS_TOKEN = twitter.obtain_access_token()\n",
    "twitter = Twython(APP_KEY, access_token=ACCESS_TOKEN)"
   ]
  },
  {
   "cell_type": "markdown",
   "metadata": {},
   "source": [
    "Consulta de termino, con respuesta de 100 tweets,\n",
    "Documentación de la consulta en https://developer.twitter.com/en/docs/tweets/search/api-reference/get-search-tweets, operaciones de filtrado https://developer.twitter.com/en/docs/tweets/rules-and-filtering/overview/standard-operators"
   ]
  },
  {
   "cell_type": "code",
   "execution_count": 71,
   "metadata": {},
   "outputs": [],
   "source": [
    "consulta = twitter.search(q='alcalde Bogotá',count=\"100\",lang=\"es\")\n",
    "tweets = pd.DataFrame(consulta['statuses'])"
   ]
  },
  {
   "cell_type": "markdown",
   "metadata": {},
   "source": [
    "Convertir respuesta a pandas DataFrame"
   ]
  },
  {
   "cell_type": "code",
   "execution_count": 74,
   "metadata": {},
   "outputs": [
    {
     "data": {
      "text/plain": [
       "0     RT @gurozu: ¿Ud votaría por esta joya para la ...\n",
       "1     RT @Contagioradio1: Alcalde, esta solución tam...\n",
       "2     RT @MarViToF: Seríamos unos grandísimos imbéci...\n",
       "3     RT @NataliaTrd: Si Miguel Turbay no logra ser ...\n",
       "4     RT @gurozu: ¿Ud votaría por esta joya para la ...\n",
       "5     RT @CarlosCarrilloA: El alcalde @EnriquePenalo...\n",
       "6     RT @FabianRosasP: El que fue Alcalde de Bogotá...\n",
       "7     @petrogustavo \"El Galán\" preocupado por cazar ...\n",
       "8     RT @LaPullaOficial: #LaPulla: ¿Sabían que en B...\n",
       "9     RT @SamuelHoyosM: Quiero ser alcalde de #Bogot...\n",
       "10    RT @HabitanteCalle: Les digo lo que muchos pie...\n",
       "11    RT @SamuelHoyosM: Quiero ser alcalde de #Bogot...\n",
       "12    RT @TodosConNavarro: Un alcalde técnico y con ...\n",
       "13    RT @TodosConNavarro: Un alcalde técnico y con ...\n",
       "14    Es el colmo que este impresentable personaje @...\n",
       "15    RT @HabitanteCalle: Les digo lo que muchos pie...\n",
       "16    RT @jischal: Sembrar un árbol en Bogotá cuesta...\n",
       "17    RT @Fennix73: Mitología colombiana Volumen I:\\...\n",
       "18    podríamos? usted no va a ser alcalde de Bogotá...\n",
       "19    RT @SamuelHoyosM: Quiero ser alcalde de #Bogot...\n",
       "20    RT @NataliaTrd: Si Miguel Turbay no logra ser ...\n",
       "21    El peor Alcalde que ha tenido Bogotá @EnriqueP...\n",
       "22    @EnriquePenalosa Ojalá el próximo alcalde de B...\n",
       "23    RT @NataliaTrd: Si Miguel Turbay no logra ser ...\n",
       "24    @EnriquePenalosa inepto de mierda, tumba árbol...\n",
       "25    RT @SamuelHoyosM: Quiero ser alcalde de #Bogot...\n",
       "26    RT @jischal: Sembrar un árbol en Bogotá cuesta...\n",
       "27    RT @jischal: Sembrar un árbol en Bogotá cuesta...\n",
       "28    RT @MarViToF: Seríamos unos grandísimos imbéci...\n",
       "29    RT @Fennix73: Mitología colombiana Volumen I:\\...\n",
       "                            ...                        \n",
       "70    RT @jischal: Sembrar un árbol en Bogotá cuesta...\n",
       "71    RT @fedecoltenis: 👏 Agradecemos desde @fedecol...\n",
       "72    RT @SamuelHoyosM: Quiero ser alcalde de #Bogot...\n",
       "73    RT @jischal: Sembrar un árbol en Bogotá cuesta...\n",
       "74    RT @LaPullaOficial: #LaPulla: ¿Sabían que en B...\n",
       "75    RT @gurozu: ¿Ud votaría por esta joya para la ...\n",
       "76    RT @Bogota: Desde el Humedal Santa María del L...\n",
       "77    RT @gurozu: ¿Ud votaría por esta joya para la ...\n",
       "78    RT @SamuelHoyosM: Quiero ser alcalde de #Bogot...\n",
       "79    RT @QueDiceSebas: Mientras en Bogotá hay árbol...\n",
       "80    RT @gurozu: ¿Ud votaría por esta joya para la ...\n",
       "81    RT @jorgeangelgarc5: @Diego_Molano, ES EL QUE ...\n",
       "82    @CamiloParraL18 @HOLLMANMORRIS @navarrowolff @...\n",
       "83    RT @Comunicatrina: En clases les dicen a los n...\n",
       "84    RT @jischal: Sembrar un árbol en Bogotá cuesta...\n",
       "85    RT @rodrigoaguaclar: Que va saber el mamerto d...\n",
       "86    RT @MiremosaVer: ¿Tonces el precoz, pilo y mis...\n",
       "87    RT @fedecoltenis: 👏 Agradecemos desde @fedecol...\n",
       "88    RT @jischal: Sembrar un árbol en Bogotá cuesta...\n",
       "89    @Bocarejo_JP @Bogota Sres por favor lo que qui...\n",
       "90    RT @jischal: Sembrar un árbol en Bogotá cuesta...\n",
       "91    ¿Tonces el precoz, pilo y misógino @MiguelUrib...\n",
       "92    @SamuelHoyosM Haganos un favor; deje de estar ...\n",
       "93    RT @fedecoltenis: 👏 Agradecemos desde @fedecol...\n",
       "94    RT @SamuelHoyosM: Quiero ser alcalde de #Bogot...\n",
       "95    RT @Vicme100: Publicaré este vídeo cuántas vec...\n",
       "96    RT @NataliaTrd: Si Miguel Turbay no logra ser ...\n",
       "97    RT @MarViToF: Seríamos unos grandísimos imbéci...\n",
       "98    RT @fedecoltenis: 👏 Agradecemos desde @fedecol...\n",
       "99    RT @fedecoltenis: 👏 Agradecemos desde @fedecol...\n",
       "Name: text, Length: 100, dtype: object"
      ]
     },
     "metadata": {},
     "output_type": "display_data"
    }
   ],
   "source": [
    "display(tweets['text'])"
   ]
  }
 ],
 "metadata": {
  "kernelspec": {
   "display_name": "Python 3",
   "language": "python",
   "name": "python3"
  },
  "language_info": {
   "codemirror_mode": {
    "name": "ipython",
    "version": 3
   },
   "file_extension": ".py",
   "mimetype": "text/x-python",
   "name": "python",
   "nbconvert_exporter": "python",
   "pygments_lexer": "ipython3",
   "version": "3.6.5"
  }
 },
 "nbformat": 4,
 "nbformat_minor": 2
}
