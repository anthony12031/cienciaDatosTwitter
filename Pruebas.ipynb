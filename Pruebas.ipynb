{
 "cells": [
  {
   "cell_type": "code",
   "execution_count": 53,
   "metadata": {},
   "outputs": [],
   "source": [
    "from twython import Twython\n",
    "import pandas as pd\n",
    "import json"
   ]
  },
  {
   "cell_type": "markdown",
   "metadata": {},
   "source": [
    "Credenciales de la aplicación"
   ]
  },
  {
   "cell_type": "code",
   "execution_count": 2,
   "metadata": {},
   "outputs": [],
   "source": [
    "APP_KEY = 'DsdslsPnlQpJcbINiW28L4TBI'\n",
    "APP_SECRET = 'XklVUJQquvtJ1HAxMSwlyxrPb4v171TGwMfHMwXMTRBSTeF4mo'"
   ]
  },
  {
   "cell_type": "markdown",
   "metadata": {},
   "source": [
    "Autenticación con la api de twitter"
   ]
  },
  {
   "cell_type": "code",
   "execution_count": 3,
   "metadata": {},
   "outputs": [],
   "source": [
    "twitter = Twython(APP_KEY, APP_SECRET, oauth_version=2)\n",
    "ACCESS_TOKEN = twitter.obtain_access_token()\n",
    "twitter = Twython(APP_KEY, access_token=ACCESS_TOKEN)"
   ]
  },
  {
   "cell_type": "markdown",
   "metadata": {},
   "source": [
    "Consulta de termino, con respuesta de 100 tweets,\n",
    "Documentación de la consulta en https://developer.twitter.com/en/docs/tweets/search/api-reference/get-search-tweets, operaciones de filtrado https://developer.twitter.com/en/docs/tweets/rules-and-filtering/overview/standard-operators"
   ]
  },
  {
   "cell_type": "code",
   "execution_count": 113,
   "metadata": {
    "scrolled": true
   },
   "outputs": [
    {
     "data": {
      "text/html": [
       "<div>\n",
       "<style scoped>\n",
       "    .dataframe tbody tr th:only-of-type {\n",
       "        vertical-align: middle;\n",
       "    }\n",
       "\n",
       "    .dataframe tbody tr th {\n",
       "        vertical-align: top;\n",
       "    }\n",
       "\n",
       "    .dataframe thead th {\n",
       "        text-align: right;\n",
       "    }\n",
       "</style>\n",
       "<table border=\"1\" class=\"dataframe\">\n",
       "  <thead>\n",
       "    <tr style=\"text-align: right;\">\n",
       "      <th></th>\n",
       "      <th>created_at</th>\n",
       "      <th>text</th>\n",
       "      <th>favorite_count</th>\n",
       "      <th>retweet_count</th>\n",
       "    </tr>\n",
       "  </thead>\n",
       "  <tbody>\n",
       "    <tr>\n",
       "      <th>0</th>\n",
       "      <td>Sat Feb 02 16:46:41 +0000 2019</td>\n",
       "      <td>QUIERO SER ALCALDE DE #BOGOTÁ PORQUE AQUÍ NACÍ...</td>\n",
       "      <td>894</td>\n",
       "      <td>380</td>\n",
       "    </tr>\n",
       "    <tr>\n",
       "      <th>1</th>\n",
       "      <td>Sat Feb 02 22:26:58 +0000 2019</td>\n",
       "      <td>👏 AGRADECEMOS DESDE @FEDECOLTENIS AL ALCALDE D...</td>\n",
       "      <td>119</td>\n",
       "      <td>32</td>\n",
       "    </tr>\n",
       "    <tr>\n",
       "      <th>2</th>\n",
       "      <td>Sun Feb 03 00:14:37 +0000 2019</td>\n",
       "      <td>“SIENTO ORGULLO DE NUESTRO PARTIDO, POR LA LAB...</td>\n",
       "      <td>51</td>\n",
       "      <td>33</td>\n",
       "    </tr>\n",
       "    <tr>\n",
       "      <th>3</th>\n",
       "      <td>Sun Feb 03 20:46:00 +0000 2019</td>\n",
       "      <td>DURANTE LA CELEBRACIÓN DEL #DÍAMUNDIADELOSHUME...</td>\n",
       "      <td>37</td>\n",
       "      <td>13</td>\n",
       "    </tr>\n",
       "    <tr>\n",
       "      <th>4</th>\n",
       "      <td>Mon Jan 28 18:35:56 +0000 2019</td>\n",
       "      <td>-RECUPERACIÓN DEL RÍO BOGOTÁ❌\\n-MEJORAR SERVIC...</td>\n",
       "      <td>2735</td>\n",
       "      <td>1352</td>\n",
       "    </tr>\n",
       "    <tr>\n",
       "      <th>5</th>\n",
       "      <td>Mon Jan 28 12:29:55 +0000 2019</td>\n",
       "      <td>TENGO CARÁCTER, COMPROMISO Y CAPACIDAD DE DECI...</td>\n",
       "      <td>633</td>\n",
       "      <td>314</td>\n",
       "    </tr>\n",
       "    <tr>\n",
       "      <th>6</th>\n",
       "      <td>Wed Jan 30 20:20:47 +0000 2019</td>\n",
       "      <td>“EL ÉXITO DE UN GOBIERNO DEPENDE TAMBIÉN DE TE...</td>\n",
       "      <td>544</td>\n",
       "      <td>212</td>\n",
       "    </tr>\n",
       "    <tr>\n",
       "      <th>7</th>\n",
       "      <td>Thu Jan 31 13:38:48 +0000 2019</td>\n",
       "      <td>NINGÚN ALCALDE POR INTELIGENTE Y CAPAZ QUE SEA...</td>\n",
       "      <td>902</td>\n",
       "      <td>247</td>\n",
       "    </tr>\n",
       "    <tr>\n",
       "      <th>8</th>\n",
       "      <td>Sat Jan 26 23:55:54 +0000 2019</td>\n",
       "      <td>#VELATONCONTRALATALA PARQUE DE IBERIA HACE PAR...</td>\n",
       "      <td>391</td>\n",
       "      <td>211</td>\n",
       "    </tr>\n",
       "    <tr>\n",
       "      <th>9</th>\n",
       "      <td>Fri Feb 01 17:11:01 +0000 2019</td>\n",
       "      <td>CUANDO UNO TIENE UNA META NADA SE LO PUEDE IMP...</td>\n",
       "      <td>218</td>\n",
       "      <td>89</td>\n",
       "    </tr>\n",
       "    <tr>\n",
       "      <th>10</th>\n",
       "      <td>Fri Feb 01 01:14:00 +0000 2019</td>\n",
       "      <td>EL PRESIDENTE DE LA REPÚBLICA, IVÁN DUQUE, REC...</td>\n",
       "      <td>287</td>\n",
       "      <td>109</td>\n",
       "    </tr>\n",
       "    <tr>\n",
       "      <th>11</th>\n",
       "      <td>Wed Jan 30 12:45:41 +0000 2019</td>\n",
       "      <td>RENDICIÓN DE CUENTAS AL CONCEJO DE BOGOTÁ QUE ...</td>\n",
       "      <td>176</td>\n",
       "      <td>100</td>\n",
       "    </tr>\n",
       "    <tr>\n",
       "      <th>12</th>\n",
       "      <td>Mon Jan 28 16:42:45 +0000 2019</td>\n",
       "      <td>COMO ALCALDE HE SEMBRADO MÁS ÁRBOLES QUE CUALQ...</td>\n",
       "      <td>245</td>\n",
       "      <td>106</td>\n",
       "    </tr>\n",
       "    <tr>\n",
       "      <th>13</th>\n",
       "      <td>Fri Jan 25 19:30:00 +0000 2019</td>\n",
       "      <td>#NOTICIASUNO | EL ALCALDE DE BOGOTÁ, ENRIQUE P...</td>\n",
       "      <td>63</td>\n",
       "      <td>75</td>\n",
       "    </tr>\n",
       "    <tr>\n",
       "      <th>14</th>\n",
       "      <td>Sun Jan 27 17:10:48 +0000 2019</td>\n",
       "      <td>TE QUIERO RAFA @RAFAELPARDO. GRACIAS POR TUS P...</td>\n",
       "      <td>970</td>\n",
       "      <td>127</td>\n",
       "    </tr>\n",
       "  </tbody>\n",
       "</table>\n",
       "</div>"
      ],
      "text/plain": [
       "                        created_at  \\\n",
       "0   Sat Feb 02 16:46:41 +0000 2019   \n",
       "1   Sat Feb 02 22:26:58 +0000 2019   \n",
       "2   Sun Feb 03 00:14:37 +0000 2019   \n",
       "3   Sun Feb 03 20:46:00 +0000 2019   \n",
       "4   Mon Jan 28 18:35:56 +0000 2019   \n",
       "5   Mon Jan 28 12:29:55 +0000 2019   \n",
       "6   Wed Jan 30 20:20:47 +0000 2019   \n",
       "7   Thu Jan 31 13:38:48 +0000 2019   \n",
       "8   Sat Jan 26 23:55:54 +0000 2019   \n",
       "9   Fri Feb 01 17:11:01 +0000 2019   \n",
       "10  Fri Feb 01 01:14:00 +0000 2019   \n",
       "11  Wed Jan 30 12:45:41 +0000 2019   \n",
       "12  Mon Jan 28 16:42:45 +0000 2019   \n",
       "13  Fri Jan 25 19:30:00 +0000 2019   \n",
       "14  Sun Jan 27 17:10:48 +0000 2019   \n",
       "\n",
       "                                                 text  favorite_count  \\\n",
       "0   QUIERO SER ALCALDE DE #BOGOTÁ PORQUE AQUÍ NACÍ...             894   \n",
       "1   👏 AGRADECEMOS DESDE @FEDECOLTENIS AL ALCALDE D...             119   \n",
       "2   “SIENTO ORGULLO DE NUESTRO PARTIDO, POR LA LAB...              51   \n",
       "3   DURANTE LA CELEBRACIÓN DEL #DÍAMUNDIADELOSHUME...              37   \n",
       "4   -RECUPERACIÓN DEL RÍO BOGOTÁ❌\\n-MEJORAR SERVIC...            2735   \n",
       "5   TENGO CARÁCTER, COMPROMISO Y CAPACIDAD DE DECI...             633   \n",
       "6   “EL ÉXITO DE UN GOBIERNO DEPENDE TAMBIÉN DE TE...             544   \n",
       "7   NINGÚN ALCALDE POR INTELIGENTE Y CAPAZ QUE SEA...             902   \n",
       "8   #VELATONCONTRALATALA PARQUE DE IBERIA HACE PAR...             391   \n",
       "9   CUANDO UNO TIENE UNA META NADA SE LO PUEDE IMP...             218   \n",
       "10  EL PRESIDENTE DE LA REPÚBLICA, IVÁN DUQUE, REC...             287   \n",
       "11  RENDICIÓN DE CUENTAS AL CONCEJO DE BOGOTÁ QUE ...             176   \n",
       "12  COMO ALCALDE HE SEMBRADO MÁS ÁRBOLES QUE CUALQ...             245   \n",
       "13  #NOTICIASUNO | EL ALCALDE DE BOGOTÁ, ENRIQUE P...              63   \n",
       "14  TE QUIERO RAFA @RAFAELPARDO. GRACIAS POR TUS P...             970   \n",
       "\n",
       "    retweet_count  \n",
       "0             380  \n",
       "1              32  \n",
       "2              33  \n",
       "3              13  \n",
       "4            1352  \n",
       "5             314  \n",
       "6             212  \n",
       "7             247  \n",
       "8             211  \n",
       "9              89  \n",
       "10            109  \n",
       "11            100  \n",
       "12            106  \n",
       "13             75  \n",
       "14            127  "
      ]
     },
     "metadata": {},
     "output_type": "display_data"
    }
   ],
   "source": [
    "consulta = twitter.search(q=['Alcalde de Bogotá'],count=100,lang=\"es\",result_type=\"popular\")\n",
    "tweets = pd.DataFrame(consulta['statuses'])\n",
    "#tweets['text']=tweets['text'].str.split(\" \",expand=False)\n",
    "tweets['text']=tweets['text'].str.upper()\n",
    "display(tweets[['created_at','text','favorite_count','retweet_count']])\n"
   ]
  },
  {
   "cell_type": "markdown",
   "metadata": {},
   "source": [
    "Convertir respuesta a pandas DataFrame"
   ]
  },
  {
   "cell_type": "code",
   "execution_count": null,
   "metadata": {
    "scrolled": false
   },
   "outputs": [],
   "source": []
  },
  {
   "cell_type": "code",
   "execution_count": 6,
   "metadata": {
    "scrolled": true
   },
   "outputs": [
    {
     "data": {
      "text/plain": [
       "1091683361737846785    1\n",
       "1091761919969644544    1\n",
       "1091739693417459719    1\n",
       "1092014836643495936    1\n",
       "1091764687597985792    1\n",
       "1092153604851617794    1\n",
       "1091850582762098688    1\n",
       "1092097496082452480    1\n",
       "1091865179980292097    1\n",
       "1091770049314975745    1\n",
       "1092105660496523264    1\n",
       "1091760661816926210    1\n",
       "1091676229500059648    1\n",
       "1091721058183532544    1\n",
       "1091808502450933761    1\n",
       "Name: id, dtype: int64"
      ]
     },
     "metadata": {},
     "output_type": "display_data"
    }
   ],
   "source": [
    "display(tweets[\"id\"].value_counts())"
   ]
  },
  {
   "cell_type": "code",
   "execution_count": 7,
   "metadata": {},
   "outputs": [
    {
     "data": {
      "text/plain": [
       "2    VENEZOLANOS socorriendo a VENEZOLANOS desampar...\n",
       "Name: text, dtype: object"
      ]
     },
     "execution_count": 7,
     "metadata": {},
     "output_type": "execute_result"
    }
   ],
   "source": [
    "tweets[\"text\"][tweets[\"retweet_count\"]==tweets[\"retweet_count\"].max()]"
   ]
  },
  {
   "cell_type": "code",
   "execution_count": 8,
   "metadata": {},
   "outputs": [
    {
     "data": {
      "text/plain": [
       "276.93333333333334"
      ]
     },
     "execution_count": 8,
     "metadata": {},
     "output_type": "execute_result"
    }
   ],
   "source": [
    "tweets[\"retweet_count\"].mean()"
   ]
  },
  {
   "cell_type": "code",
   "execution_count": 9,
   "metadata": {},
   "outputs": [
    {
     "data": {
      "text/plain": [
       "0     Sun Feb 03 16:28:27 +0000 2019\n",
       "1     Sat Feb 02 18:26:00 +0000 2019\n",
       "2     Sat Feb 02 13:02:50 +0000 2019\n",
       "3     Sat Feb 02 21:20:06 +0000 2019\n",
       "4     Sat Feb 02 16:46:41 +0000 2019\n",
       "5     Sat Feb 02 15:32:38 +0000 2019\n",
       "6     Sun Feb 03 11:00:00 +0000 2019\n",
       "7     Sun Feb 03 20:11:25 +0000 2019\n",
       "8     Sat Feb 02 12:34:30 +0000 2019\n",
       "9     Sat Feb 02 18:10:00 +0000 2019\n",
       "10    Sun Feb 03 17:00:54 +0000 2019\n",
       "11    Sat Feb 02 18:47:18 +0000 2019\n",
       "12    Sun Feb 03 01:05:19 +0000 2019\n",
       "13    Sun Feb 03 00:07:19 +0000 2019\n",
       "14    Sat Feb 02 18:15:00 +0000 2019\n",
       "Name: created_at, dtype: object"
      ]
     },
     "execution_count": 9,
     "metadata": {},
     "output_type": "execute_result"
    }
   ],
   "source": [
    "tweets[\"created_at\"]"
   ]
  }
 ],
 "metadata": {
  "kernelspec": {
   "display_name": "Python 3",
   "language": "python",
   "name": "python3"
  },
  "language_info": {
   "codemirror_mode": {
    "name": "ipython",
    "version": 3
   },
   "file_extension": ".py",
   "mimetype": "text/x-python",
   "name": "python",
   "nbconvert_exporter": "python",
   "pygments_lexer": "ipython3",
   "version": "3.7.1"
  }
 },
 "nbformat": 4,
 "nbformat_minor": 2
}
